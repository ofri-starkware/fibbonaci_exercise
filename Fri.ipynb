{
 "cells": [
  {
   "cell_type": "code",
   "execution_count": 1,
   "id": "fc932dc1",
   "metadata": {},
   "outputs": [],
   "source": [
    "%run SharedParams.ipynb\n",
    "%run MerkleTree.ipynb"
   ]
  },
  {
   "cell_type": "code",
   "execution_count": 2,
   "id": "a8b41c5f",
   "metadata": {},
   "outputs": [],
   "source": [
    "class Fri:\n",
    "    \n",
    "    def __init__(self, cp_eval, fiat_shamir, proof_data):\n",
    "        assert len(cp_eval) == g_order        \n",
    "        self.layers = [MerkleTree(cp_eval)]\n",
    "        proof_data.append(f\"oods_eval_merkle:{self.layers[0].root.hex()}\")\n",
    "        commitments.append(self.layers[0].root)\n",
    "\n",
    "        while True:\n",
    "            beta = fiat_shamir.get_random_int(commitments)\n",
    "            new_layer_eval = self.next_eval(self.layers[-1].data, beta)\n",
    "            if len(new_layer_eval) > RS_factor:\n",
    "                self.layers.append(MerkleTree(new_layer_eval))\n",
    "                proof_data.append(f\"layer_root:{self.layers[-1].root.hex()}\")\n",
    "                commitments.append(self.layers[-1].root)\n",
    "            else:\n",
    "                self.last_layer_const = new_layer_eval[0]\n",
    "                assert all(self.last_layer_const == val for val in new_layer_eval)\n",
    "                proof_data.append(f\"last_layer_const:{self.last_layer_const}\")\n",
    "                commitments.append(self.last_layer_const)\n",
    "                break\n",
    "    \n",
    "    @staticmethod\n",
    "    def next_eval(curr_eval, beta):\n",
    "        coset_dilution = int(g_order / len(curr_eval))\n",
    "        new_eval = []\n",
    "        for i in range(len(curr_eval)/2):\n",
    "            plus_part = (curr_eval[i] + curr_eval[len(curr_eval)/2 + i]) / 2\n",
    "            minus_part = (curr_eval[i] - curr_eval[len(curr_eval)/2 + i]) / (2 * w**coset_dilution * g**(coset_dilution * i))\n",
    "            new_eval.append(plus_part + beta * minus_part)\n",
    "        return new_eval\n",
    "\n",
    "    def query_layers(self, index, fiat_shamir, proof_data):\n",
    "        layer_size = len(self.layers[0].data)\n",
    "        for layer_index in range(len(self.layers)):\n",
    "            first_eval_index = index % layer_size\n",
    "            second_eval_index = (index + int(layer_size / 2)) % layer_size\n",
    "            first_data, first_path = self.layers[layer_index].get_path(first_eval_index)\n",
    "            second_data, second_path = self.layers[layer_index].get_path(second_eval_index)\n",
    "            MerkleTree.auth_path(first_data, first_eval_index, first_path, self.layers[layer_index].root, self.layers[layer_index].tree_height)\n",
    "            MerkleTree.auth_path(second_data, second_eval_index, second_path, self.layers[layer_index].root, self.layers[layer_index].tree_height)\n",
    "            \n",
    "            layer_size = int(layer_size / 2)\n",
    "\n",
    "            proof_data.append(f\"layer_first_eval:{first_data}\")\n",
    "            proof_data.append(f\"path:{first_path}\")\n",
    "            proof_data.append(f\"layer_second_eval:{second_data}\")\n",
    "            proof_data.append(f\"path:{second_path}\")"
   ]
  },
  {
   "cell_type": "code",
   "execution_count": 2,
   "id": "857049b8",
   "metadata": {},
   "outputs": [],
   "source": [
    "# my_eval = []\n",
    "# for i in range(g_order):\n",
    "#    my_eval.append(17 * w ** 4 * g**(4*i))\n",
    "\n",
    "# fri = Fri(my_eval, fiat_shamir, proof_data)\n"
   ]
  },
  {
   "cell_type": "code",
   "execution_count": 34,
   "id": "f5bc1400",
   "metadata": {},
   "outputs": [
    {
     "data": {
      "text/plain": [
       "774576236"
      ]
     },
     "execution_count": 34,
     "metadata": {},
     "output_type": "execute_result"
    }
   ],
   "source": []
  },
  {
   "cell_type": "code",
   "execution_count": 32,
   "id": "9d66691f",
   "metadata": {},
   "outputs": [
    {
     "data": {
      "text/plain": [
       "240647268"
      ]
     },
     "execution_count": 32,
     "metadata": {},
     "output_type": "execute_result"
    }
   ],
   "source": []
  },
  {
   "cell_type": "code",
   "execution_count": null,
   "id": "604af53c",
   "metadata": {},
   "outputs": [],
   "source": []
  }
 ],
 "metadata": {
  "kernelspec": {
   "display_name": "SageMath 9.0",
   "language": "sage",
   "name": "sagemath"
  },
  "language_info": {
   "codemirror_mode": {
    "name": "ipython",
    "version": 3
   },
   "file_extension": ".py",
   "mimetype": "text/x-python",
   "name": "python",
   "nbconvert_exporter": "python",
   "pygments_lexer": "ipython3",
   "version": "3.8.10"
  }
 },
 "nbformat": 4,
 "nbformat_minor": 5
}
