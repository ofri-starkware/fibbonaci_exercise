{
 "cells": [
  {
   "cell_type": "code",
   "execution_count": 3,
   "id": "0ae960c8",
   "metadata": {},
   "outputs": [],
   "source": [
    "%run SharedParams.ipynb\n",
    "%run MerkleTree.ipynb\n",
    "%run Main.ipynb\n"
   ]
  },
  {
   "cell_type": "code",
   "execution_count": 38,
   "id": "f105cf9f",
   "metadata": {},
   "outputs": [],
   "source": [
    "class Fri:\n",
    "    \n",
    "    def __init__(self, cp_eval, fiat_shamir, proof_data):\n",
    "        assert len(cp_eval) == g_order        \n",
    "        self.layers = [MerkleTree(cp_eval)]\n",
    "        while True:\n",
    "            proof_data.append(f\"layer_root:{self.layers[-1].root}\")\n",
    "            beta = fiat_shamir.get_random_int(proof_data)\n",
    "            new_layer_eval = self.next_eval(self.layers[-1].data, beta)\n",
    "            # print(PR.lagrange_polynomial(zip([w ** int(len(cp_eval)/len(new_layer_eval)) * g ** i for i in range(0, len(cp_eval), int(len(cp_eval)/len(new_layer_eval)))], new_layer_eval)))\n",
    "            if len(new_layer_eval) > RS_factor:\n",
    "                self.layers.append(MerkleTree(new_layer_eval))\n",
    "            else:\n",
    "                self.last_layer_const = new_layer_eval[0]\n",
    "                assert all(self.last_layer_const == val for val in new_layer_eval)\n",
    "                proof_data.append(f\"last_layer_const:{self.last_layer_const}\")\n",
    "                break\n",
    "    \n",
    "    @staticmethod\n",
    "    def next_eval(curr_eval, beta):\n",
    "        coset_dilution = int(g_order / len(curr_eval))\n",
    "        new_eval = []\n",
    "        for i in range(len(curr_eval)/2):\n",
    "            plus_part = (curr_eval[i] + curr_eval[len(curr_eval)/2 + i]) / 2\n",
    "            minus_part = (curr_eval[i] - curr_eval[len(curr_eval)/2 + i]) / (2 * w**coset_dilution * g**(coset_dilution * i))\n",
    "            new_eval.append(plus_part + beta * minus_part)\n",
    "        \n",
    "        # print(new_eval)\n",
    "        # print(\"\\n\\n\\n\\nzzzz\\n\\n\\n\\n\")\n",
    "        return new_eval\n",
    "        \n",
    "    def query(self, fiat_shamir, proof_data):\n",
    "        index = fiat_shamir.get_random_int(proof_data) % len(layers[0].data)\n",
    "        negative_index = (index + len(layers[0].data)/2) % len(layers[0].data)\n",
    "        for layer_index in len(layers):\n",
    "            positive_data, positive_path = self.layers[layer_index].get_path(int(index / (2 ** layer_index)))\n",
    "            negative_data, negative_path = self.layers[layer_index].get_path(int(negative_index/ (2 ** layer_index)))\n",
    "            proof_data.append(f\"layer_plus_eval:{positive_data}\")\n",
    "            proof_data.append(f\"path:{positive_path}\")\n",
    "            proof_data.append(f\"layer_minus_eval:{negative_data}\")\n",
    "            proof_data.append(f\"path:{negative_path}\")"
   ]
  },
  {
   "cell_type": "code",
   "execution_count": 41,
   "id": "03571682",
   "metadata": {},
   "outputs": [],
   "source": [
    "my_eval = []\n",
    "for i in range(g_order):\n",
    "    my_eval.append(17 * w ** 4 * g**(4*i))\n",
    "\n",
    "fri = Fri(cp_eval, fiat_shamir, proof_data)\n"
   ]
  },
  {
   "cell_type": "code",
   "execution_count": 34,
   "id": "da55cf5c",
   "metadata": {},
   "outputs": [
    {
     "data": {
      "text/plain": [
       "774576236"
      ]
     },
     "execution_count": 34,
     "metadata": {},
     "output_type": "execute_result"
    }
   ],
   "source": []
  },
  {
   "cell_type": "code",
   "execution_count": 32,
   "id": "7b6d36d6",
   "metadata": {},
   "outputs": [
    {
     "data": {
      "text/plain": [
       "240647268"
      ]
     },
     "execution_count": 32,
     "metadata": {},
     "output_type": "execute_result"
    }
   ],
   "source": []
  },
  {
   "cell_type": "code",
   "execution_count": null,
   "id": "c0a91c77",
   "metadata": {},
   "outputs": [],
   "source": []
  }
 ],
 "metadata": {
  "kernelspec": {
   "display_name": "SageMath 9.0",
   "language": "sage",
   "name": "sagemath"
  },
  "language_info": {
   "codemirror_mode": {
    "name": "ipython",
    "version": 3
   },
   "file_extension": ".py",
   "mimetype": "text/x-python",
   "name": "python",
   "nbconvert_exporter": "python",
   "pygments_lexer": "ipython3",
   "version": "3.8.10"
  }
 },
 "nbformat": 4,
 "nbformat_minor": 5
}
