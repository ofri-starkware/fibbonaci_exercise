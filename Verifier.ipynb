{
 "cells": [
  {
   "cell_type": "code",
   "execution_count": 7,
   "id": "af024baa",
   "metadata": {},
   "outputs": [],
   "source": [
    "%run SharedParams.ipynb\n",
    "%run MerkleTree.ipynb\n",
    "import ast\n",
    "\n",
    "proof = proof_example\n",
    "commitments = []\n",
    "fiat_shamir = FiatShamir()"
   ]
  },
  {
   "cell_type": "code",
   "execution_count": 8,
   "id": "796b4954",
   "metadata": {},
   "outputs": [],
   "source": [
    "# parse utils\n",
    "\n",
    "def parse_arg(arg_name):\n",
    "    data = proof.pop(0)\n",
    "    assert data.startswith(arg_name + \":\")\n",
    "    data = data[len(arg_name) + 1:]\n",
    "    return data\n",
    "\n",
    "def parse_felt_and_commit(arg_name):\n",
    "    data = F_gen * int(parse_arg(arg_name))\n",
    "    commitments.append(int(data))\n",
    "    return data\n",
    "\n",
    "def parse_felt_and_auth(arg_name, index, merkle_root, tree_height):\n",
    "    data = F_gen * int(parse_arg(arg_name))\n",
    "    path = parse_arg(\"path\")\n",
    "    path = ast.literal_eval(path)\n",
    "    MerkleTree.auth_path(data, index, path, merkle_root, tree_height)\n",
    "    return data\n",
    "\n",
    "def parse_and_commit_hash(arg_name):\n",
    "    arg = bytes.fromhex(parse_arg(arg_name))\n",
    "    commitments.append(arg)\n",
    "    return arg"
   ]
  },
  {
   "cell_type": "code",
   "execution_count": 9,
   "id": "b64eade4",
   "metadata": {},
   "outputs": [],
   "source": [
    "# parse trace polynomial eval root, generate cp betas, parse cp merkle root\n",
    "\n",
    "eval_merkle_root = parse_and_commit_hash(\"eval_merkle\")\n",
    "beta0, beta1, beta2, beta3, beta4, beta5 = (fiat_shamir.get_random_int(commitments) % P for i in range(6))\n",
    "cp_eval_merkle_root = parse_and_commit_hash(\"cp_eval_merkle\")\n",
    "oods_z = fiat_shamir.get_random_int(commitments) % P\n",
    "cp_z = parse_felt_and_commit(\"cp_z\")\n",
    "mask_z1 = parse_felt_and_commit(\"mask_z1\")\n",
    "mask_z2 = parse_felt_and_commit(\"mask_z2\")\n",
    "mask_z3 = parse_felt_and_commit(\"mask_z3\")\n",
    "alpha1, alpha2, alpha3, alpha_cp = (fiat_shamir.get_random_int(commitments) % P for i in range(4))\n",
    "oods_eval_merkle_root = parse_and_commit_hash(\"oods_eval_merkle\")"
   ]
  },
  {
   "cell_type": "code",
   "execution_count": 10,
   "id": "585b18b2",
   "metadata": {},
   "outputs": [],
   "source": [
    "# Compute cp_z from mask_z's, and assert it is correct\n",
    "\n",
    "fib_constraint_poly_comp = (mask_z1 + mask_z2 - mask_z3) / (oods_z ** 1024 - 1)\n",
    "for i in range(999, 1024):\n",
    "    fib_constraint_poly_comp *= (oods_z - gamma ** i)\n",
    "\n",
    "boundary_constraint_1_poly_comp = (mask_z1 - fib_1)/(oods_z - 1)\n",
    "boundary_constraint_last_poly_comp = (mask_z1 - fib_last)/(oods_z - gamma ** 1000)\n",
    "\n",
    "\n",
    "cp_comp = beta0 + beta1 * (fib_constraint_poly_comp * oods_z ** (1023 - fib_constraint_max_deg))\n",
    "cp_comp += beta2 + beta3 * (boundary_constraint_1_poly_comp * oods_z ** (1023 - boundary_constraint_max_deg))\n",
    "cp_comp += beta4 + beta5 * (boundary_constraint_last_poly_comp * oods_z ** (1023 - boundary_constraint_max_deg))\n",
    "\n",
    "assert cp_comp == cp_z\n"
   ]
  },
  {
   "cell_type": "code",
   "execution_count": 11,
   "id": "638d19e5",
   "metadata": {},
   "outputs": [],
   "source": [
    "# parse commitments on FRI layers and generate layers beta\n",
    "\n",
    "layers_roots = []\n",
    "layers_betas = []\n",
    "for layer in range(int(math.log(gamma_order, 2)) - 1):\n",
    "    layers_betas.append(fiat_shamir.get_random_int(commitments))\n",
    "    layers_roots.append(parse_and_commit_hash(\"layer_root\"))\n",
    "\n",
    "# last layer\n",
    "layers_betas.append(fiat_shamir.get_random_int(commitments))\n",
    "last_layer_const = parse_felt_and_commit(\"last_layer_const\")"
   ]
  },
  {
   "cell_type": "code",
   "execution_count": 12,
   "id": "6e6fb959",
   "metadata": {},
   "outputs": [],
   "source": [
    "def compute_oods_from_evals(trace_eval, cp_eval, index):\n",
    "    oods_comp = alpha1 * (trace_eval-mask_z1)/((w * g ** index)-oods_z)\n",
    "    oods_comp += alpha2 * (trace_eval-mask_z2)/((w * g ** index)- (gamma * oods_z))\n",
    "    oods_comp += alpha3 * (trace_eval-mask_z3)/((w * g ** index)-(gamma ** 2 * oods_z))\n",
    "    oods_comp += alpha_cp * (cp_eval-cp_z)/((w * g ** index)-oods_z)\n",
    "    \n",
    "    return F_gen * oods_comp\n",
    "    "
   ]
  },
  {
   "cell_type": "code",
   "execution_count": 13,
   "id": "c98a6ea3",
   "metadata": {},
   "outputs": [],
   "source": [
    "# get trace evaluations and cp_eval, test their compatibility and return cp_eval\n",
    "\n",
    "def parse_evals_and_verify_oods(first_index: int, second_index: int):\n",
    "    trace_eval = parse_felt_and_auth(\"trace_eval\", first_index, eval_merkle_root, tree_height)\n",
    "    cp_eval = parse_felt_and_auth(\"cp_eval\", first_index, cp_eval_merkle_root, tree_height)\n",
    "            \n",
    "    oods_first_eval = parse_felt_and_auth(\"layer_first_eval\", first_index, oods_eval_merkle_root, tree_height)\n",
    "    oods_second_eval = parse_felt_and_auth(\"layer_second_eval\", second_index, oods_eval_merkle_root, tree_height)\n",
    "    \n",
    "    # TODO - check the trace and cp against the oods values. (build polynom)\n",
    "    \n",
    "    assert oods_first_eval == compute_oods_from_evals(trace_eval, cp_eval, first_index)\n",
    "    \n",
    "    \n",
    "    \n",
    "    return oods_first_eval, oods_second_eval"
   ]
  },
  {
   "cell_type": "code",
   "execution_count": 14,
   "id": "8fb1a7c0",
   "metadata": {},
   "outputs": [],
   "source": [
    "def verify_fri_layer(layer_size, dilution, cur_index, layer_first_index, layer_second_index, layer_first_eval, layer_second_eval, next_eval_index):\n",
    "    plus_eval = layer_first_eval if layer_first_index < layer_second_index else layer_second_eval\n",
    "    minus_eval = layer_first_eval if layer_first_index > layer_second_index else layer_second_eval\n",
    "        \n",
    "    even_part = (F_gen * plus_eval + minus_eval) / 2\n",
    "    odd_part = (F_gen * plus_eval - minus_eval) / (2 * w**dilution * g**(cur_index))\n",
    "        \n",
    "    if next_eval_index == len(layers_roots):\n",
    "        expected_value = F_gen * last_layer_const\n",
    "    else:\n",
    "        expected_value = F_gen * layers_first_eval[next_eval_index]\n",
    "    assert expected_value == even_part + layers_betas[next_eval_index] * odd_part\n",
    "    "
   ]
  },
  {
   "cell_type": "code",
   "execution_count": 15,
   "id": "a85cee26",
   "metadata": {
    "scrolled": true
   },
   "outputs": [
    {
     "name": "stdout",
     "output_type": "stream",
     "text": [
      "running Fri query 0\n",
      "running Fri query 1\n",
      "Amen :)\n"
     ]
    }
   ],
   "source": [
    "# parse queries and test their FRI validity\n",
    "\n",
    "for i in range(N_FRI_QUERIES):\n",
    "    print(f\"running Fri query {i}\")\n",
    "    tree_height = int(math.log(g_order, 2))    \n",
    "    first_index = fiat_shamir.get_random_int(commitments) % g_order\n",
    "    second_index = (first_index + int(g_order / 2)) % g_order\n",
    "    oods_first_eval, oods_second_eval = parse_evals_and_verify_oods(first_index, second_index)\n",
    "        \n",
    "    # Get and authenticate the plus and minus evaluations.\n",
    "    layers_first_eval = []\n",
    "    layers_second_eval = []\n",
    "    layer_size = g_order\n",
    "    for layer_root in layers_roots:\n",
    "        tree_height -= 1\n",
    "        layer_size = int(layer_size / 2)\n",
    "        layer_first_index = first_index % layer_size\n",
    "        layer_second_index = int(first_index - int(layer_size / 2)) % layer_size\n",
    "        layers_first_eval.append(parse_felt_and_auth(\"layer_first_eval\", layer_first_index, layer_root, tree_height))\n",
    "        layers_second_eval.append(parse_felt_and_auth(\"layer_second_eval\", layer_second_index, layer_root, tree_height))\n",
    "\n",
    "    # verify first fri layer (oods evaluation)\n",
    "    verify_fri_layer(\n",
    "        layer_size=g_order,\n",
    "        dilution=1,\n",
    "        cur_index=first_index % int(g_order / 2),\n",
    "        layer_first_index=first_index,\n",
    "        layer_second_index=second_index,\n",
    "        layer_first_eval=oods_first_eval,\n",
    "        layer_second_eval=oods_second_eval,\n",
    "        next_eval_index=0\n",
    "    )\n",
    "\n",
    "    \n",
    "    # Check Fri layers evaluations.\n",
    "    dilution = 2\n",
    "    for layer_index in range(len(layers_roots)):\n",
    "        layer_size=int(g_order / dilution)\n",
    "        verify_fri_layer(\n",
    "            layer_size=layer_size,\n",
    "            dilution=dilution,\n",
    "            cur_index=(dilution * first_index) % int(g_order / 2),\n",
    "            layer_first_index=first_index % layer_size,\n",
    "            layer_second_index=int(first_index - int(layer_size / 2)) % layer_size,\n",
    "            layer_first_eval=layers_first_eval[layer_index],\n",
    "            layer_second_eval=layers_second_eval[layer_index],\n",
    "            next_eval_index=layer_index+1\n",
    "        )\n",
    "            \n",
    "        dilution *= 2\n",
    "\n",
    "        \n",
    "assert len(proof) == 0\n",
    "print(\"Amen :)\")"
   ]
  },
  {
   "cell_type": "code",
   "execution_count": null,
   "id": "1214d049",
   "metadata": {},
   "outputs": [],
   "source": []
  },
  {
   "cell_type": "code",
   "execution_count": null,
   "id": "ef5be2ba",
   "metadata": {},
   "outputs": [],
   "source": []
  }
 ],
 "metadata": {
  "kernelspec": {
   "display_name": "SageMath 9.0",
   "language": "sage",
   "name": "sagemath"
  },
  "language_info": {
   "codemirror_mode": {
    "name": "ipython",
    "version": 3
   },
   "file_extension": ".py",
   "mimetype": "text/x-python",
   "name": "python",
   "nbconvert_exporter": "python",
   "pygments_lexer": "ipython3",
   "version": "3.8.10"
  }
 },
 "nbformat": 4,
 "nbformat_minor": 5
}
