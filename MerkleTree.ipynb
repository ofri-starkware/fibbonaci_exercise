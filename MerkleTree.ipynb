{
 "cells": [
  {
   "cell_type": "code",
   "execution_count": 15,
   "id": "764eba22",
   "metadata": {},
   "outputs": [
    {
     "name": "stdout",
     "output_type": "stream",
     "text": [
      "b'\\xcdS\\xa2\\xceh\\xe6Gl)Q.\\xa5<9\\\\\\x7f]\\x8f\\xbc\\xb4aM\\x89)\\x8d\\xb1N*[\\xdbTV'\n"
     ]
    }
   ],
   "source": [
    "import hashlib\n",
    "%run SharedParams.ipynb\n",
    "\n",
    "def get_merkle_root(data_list, index_start=None, index_end=None):\n",
    "    if index_start == None:\n",
    "        index_start = 0\n",
    "    if index_end == None:\n",
    "        index_end = len(data_list)\n",
    "    assert math.log(index_end - index_start, 2) == int(math.log(index_end - index_start, 2))\n",
    "\n",
    "    if index_end - index_start == 1:\n",
    "        return hashlib.sha256(str(data_list[index_start]).encode(\"utf-8\")).digest()\n",
    "    new_data_list = []\n",
    "    first_hash = get_merkle_root(data_list, index_start, (index_start + index_end)/2)\n",
    "    second_hash = get_merkle_root(data_list, (index_start + index_end)/2, index_end)\n",
    "    return hashlib.sha256(first_hash + second_hash).digest()\n"
   ]
  },
  {
   "cell_type": "code",
   "execution_count": 32,
   "id": "377f9545",
   "metadata": {},
   "outputs": [
    {
     "name": "stdout",
     "output_type": "stream",
     "text": [
      "{'00': b'k\\x86\\xb2s\\xff4\\xfc\\xe1\\x9dk\\x80N\\xffZ?WG\\xad\\xa4\\xea\\xa2/\\x1dI\\xc0\\x1eR\\xdd\\xb7\\x87[K', '01': b'\\xd4s^:&^\\x16\\xee\\xe0?Yq\\x8b\\x9b]\\x03\\x01\\x9c\\x07\\xd8\\xb6\\xc5\\x1f\\x90\\xda:fn\\xec\\x13\\xab5', '10': b'N\\x07@\\x85b\\xbe\\xdb\\x8b`\\xce\\x05\\xc1\\xde\\xcf\\xe3\\xad\\x16\\xb7\"0\\x96}\\xe0\\x1fd\\x0b~G)\\xb4\\x9f\\xce', '11': b'K\"ww\\xd4\\xdd\\x1f\\xc6\\x1co\\x88OHd\\x1d\\x02\\xb4\\xd1!\\xd3\\xfd2\\x8c\\xb0\\x8bU1\\xfc\\xac\\xda\\xbf\\x8a', '0': b'B\\x95\\xf7.\\xeb\\x1e5\\x07\\xb8F\\x1e$\\x0e;\\x8d\\x18\\xc1\\xe7\\xbd/\\x11\"\\xb1\\x1f\\xc9\\xec@\\xa6X\\x94\\x03\\x1a', '1': b' \\xabt}E\\xa7y8\\xa5\\xb8L)D\\xb8\\xf55\\\\I\\xf2\\x1d\\xb0\\xc5IE\\x1cb\\x81\\xc9\\x1b\\xa4\\x8d\\r', '': b'\\xcdS\\xa2\\xceh\\xe6Gl)Q.\\xa5<9\\\\\\x7f]\\x8f\\xbc\\xb4aM\\x89)\\x8d\\xb1N*[\\xdbTV'}\n",
      "[b'\\xd4s^:&^\\x16\\xee\\xe0?Yq\\x8b\\x9b]\\x03\\x01\\x9c\\x07\\xd8\\xb6\\xc5\\x1f\\x90\\xda:fn\\xec\\x13\\xab5', b' \\xabt}E\\xa7y8\\xa5\\xb8L)D\\xb8\\xf55\\\\I\\xf2\\x1d\\xb0\\xc5IE\\x1cb\\x81\\xc9\\x1b\\xa4\\x8d\\r']\n",
      "success :)\n"
     ]
    }
   ],
   "source": [
    "class MerkleTree:\n",
    "    \n",
    "    def __init__(self, data: list):\n",
    "        self.tree_height = int(math.log(len(data), 2))\n",
    "        assert self.tree_height == math.log(len(data), 2)\n",
    "        \n",
    "        self.data = data\n",
    "        self.merkle = dict()\n",
    "        \n",
    "        for i in range(self.tree_height, 0, -1):\n",
    "            for j in range(2**i):\n",
    "                index = bin(j)[2:].rjust(i, \"0\")\n",
    "                if i == self.tree_height:\n",
    "                    self.merkle[index] = hashlib.sha256(str(data[j]).encode(\"utf-8\")).digest()\n",
    "                else:\n",
    "                    self.merkle[index] = hashlib.sha256(self.merkle[index+\"0\"] + self.merkle[index+\"1\"]).digest()\n",
    "        self.merkle[\"\"] = hashlib.sha256(self.merkle[\"0\"] + self.merkle[\"1\"]).digest()\n",
    "        self.root = self.merkle[\"\"]\n",
    "    \n",
    "    def get_path(self, data_index):\n",
    "        path = list()\n",
    "        index = bin(data_index)[2:].rjust(self.tree_height, \"0\")\n",
    "        while index != \"\":\n",
    "            parent_index = index[:-1]\n",
    "            neighbor_index = parent_index + \"0\" if parent_index == \"1\" else parent_index + \"1\"\n",
    "            path.append(self.merkle[neighbor_index])\n",
    "            index = parent_index\n",
    "        return self.data[data_index], path\n",
    "    \n",
    "    @staticmethod\n",
    "    def auth_path(data, path, root, tree_height):\n",
    "        assert len(path) == tree_height\n",
    "        curr_hash = hashlib.sha256(str(data).encode(\"utf-8\")).digest()\n",
    "        for h in path:\n",
    "            curr_hash = hashlib.sha256(curr_hash + h).digest()\n",
    "        \n",
    "        assert curr_hash == root"
   ]
  },
  {
   "cell_type": "code",
   "execution_count": 29,
   "id": "2f68290d",
   "metadata": {},
   "outputs": [
    {
     "data": {
      "text/plain": [
       "b'k\\x86\\xb2s\\xff4\\xfc\\xe1\\x9dk\\x80N\\xffZ?WG\\xad\\xa4\\xea\\xa2/\\x1dI\\xc0\\x1eR\\xdd\\xb7\\x87[K'"
      ]
     },
     "execution_count": 29,
     "metadata": {},
     "output_type": "execute_result"
    }
   ],
   "source": [
    "hashlib.sha256(b\"1\").digest()"
   ]
  },
  {
   "cell_type": "code",
   "execution_count": null,
   "id": "d3ddd114",
   "metadata": {},
   "outputs": [],
   "source": []
  }
 ],
 "metadata": {
  "kernelspec": {
   "display_name": "SageMath 9.0",
   "language": "sage",
   "name": "sagemath"
  },
  "language_info": {
   "codemirror_mode": {
    "name": "ipython",
    "version": 3
   },
   "file_extension": ".py",
   "mimetype": "text/x-python",
   "name": "python",
   "nbconvert_exporter": "python",
   "pygments_lexer": "ipython3",
   "version": "3.8.10"
  }
 },
 "nbformat": 4,
 "nbformat_minor": 5
}
