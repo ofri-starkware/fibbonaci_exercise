{
 "cells": [
  {
   "cell_type": "code",
   "execution_count": 7,
   "id": "69455a70",
   "metadata": {},
   "outputs": [],
   "source": [
    "import hashlib\n",
    "%run SharedParams.ipynb\n"
   ]
  },
  {
   "cell_type": "code",
   "execution_count": 8,
   "id": "3f6d13da",
   "metadata": {},
   "outputs": [],
   "source": [
    "class MerkleTree:\n",
    "    \n",
    "    def __init__(self, data: list):\n",
    "        self.tree_height = int(math.log(len(data), 2))\n",
    "        assert self.tree_height == math.log(len(data), 2)\n",
    "        \n",
    "        self.data = data\n",
    "        self.merkle = dict()\n",
    "        \n",
    "        for i in range(self.tree_height, 0, -1):\n",
    "            for j in range(2**i):\n",
    "                index = bin(j)[2:].rjust(i, \"0\")\n",
    "                if i == self.tree_height:\n",
    "                    self.merkle[index] = hashlib.sha256(str(data[j]).encode(\"utf-8\")).digest()\n",
    "                else:\n",
    "                    self.merkle[index] = hashlib.sha256(self.merkle[index+\"0\"] + self.merkle[index+\"1\"]).digest()\n",
    "        self.merkle[\"\"] = hashlib.sha256(self.merkle[\"0\"] + self.merkle[\"1\"]).digest()\n",
    "        self.root = self.merkle[\"\"]\n",
    "    \n",
    "    def get_path(self, data_index):\n",
    "        path = list()\n",
    "        index = bin(data_index)[2:].rjust(self.tree_height, \"0\")\n",
    "        while index != \"\":\n",
    "            parent_index = index[:-1]\n",
    "            neighbor_index = parent_index + \"0\" if index[-1] == \"1\" else parent_index + \"1\"\n",
    "            path.append(self.merkle[neighbor_index].hex())\n",
    "            index = parent_index\n",
    "        return self.data[data_index], path\n",
    "    \n",
    "    @staticmethod\n",
    "    def auth_path(data, index, path, root, tree_height):\n",
    "        orig_index = index\n",
    "        assert len(path) == tree_height\n",
    "        curr_hash = hashlib.sha256(str(data).encode(\"utf-8\")).digest()\n",
    "        for h in path:\n",
    "            bytes_h = bytes.fromhex(h)\n",
    "            curr_hash = hashlib.sha256(curr_hash + bytes_h if index%2 == 0 else bytes_h + curr_hash).digest()\n",
    "            index = int(index / 2)\n",
    "            \n",
    "        assert curr_hash == root"
   ]
  },
  {
   "cell_type": "code",
   "execution_count": 12,
   "id": "1f441e46",
   "metadata": {},
   "outputs": [
    {
     "name": "stdout",
     "output_type": "stream",
     "text": [
      "{'00': b'k\\x86\\xb2s\\xff4\\xfc\\xe1\\x9dk\\x80N\\xffZ?WG\\xad\\xa4\\xea\\xa2/\\x1dI\\xc0\\x1eR\\xdd\\xb7\\x87[K', '01': b'\\xd4s^:&^\\x16\\xee\\xe0?Yq\\x8b\\x9b]\\x03\\x01\\x9c\\x07\\xd8\\xb6\\xc5\\x1f\\x90\\xda:fn\\xec\\x13\\xab5', '10': b'N\\x07@\\x85b\\xbe\\xdb\\x8b`\\xce\\x05\\xc1\\xde\\xcf\\xe3\\xad\\x16\\xb7\"0\\x96}\\xe0\\x1fd\\x0b~G)\\xb4\\x9f\\xce', '11': b'K\"ww\\xd4\\xdd\\x1f\\xc6\\x1co\\x88OHd\\x1d\\x02\\xb4\\xd1!\\xd3\\xfd2\\x8c\\xb0\\x8bU1\\xfc\\xac\\xda\\xbf\\x8a', '0': b'B\\x95\\xf7.\\xeb\\x1e5\\x07\\xb8F\\x1e$\\x0e;\\x8d\\x18\\xc1\\xe7\\xbd/\\x11\"\\xb1\\x1f\\xc9\\xec@\\xa6X\\x94\\x03\\x1a', '1': b' \\xabt}E\\xa7y8\\xa5\\xb8L)D\\xb8\\xf55\\\\I\\xf2\\x1d\\xb0\\xc5IE\\x1cb\\x81\\xc9\\x1b\\xa4\\x8d\\r', '': b'\\xcdS\\xa2\\xceh\\xe6Gl)Q.\\xa5<9\\\\\\x7f]\\x8f\\xbc\\xb4aM\\x89)\\x8d\\xb1N*[\\xdbTV'}\n",
      "1\n",
      "['d4735e3a265e16eee03f59718b9b5d03019c07d8b6c51f90da3a666eec13ab35', '20ab747d45a77938a5b84c2944b8f5355c49f21db0c549451c6281c91ba48d0d']\n"
     ]
    },
    {
     "ename": "AssertionError",
     "evalue": "",
     "output_type": "error",
     "traceback": [
      "\u001b[0;31m---------------------------------------------------------------------------\u001b[0m",
      "\u001b[0;31mAssertionError\u001b[0m                            Traceback (most recent call last)",
      "\u001b[0;32m<ipython-input-12-7ff6f55e648e>\u001b[0m in \u001b[0;36m<module>\u001b[0;34m\u001b[0m\n\u001b[1;32m      4\u001b[0m \u001b[0mprint\u001b[0m\u001b[0;34m(\u001b[0m\u001b[0mdata\u001b[0m\u001b[0;34m)\u001b[0m\u001b[0;34m\u001b[0m\u001b[0;34m\u001b[0m\u001b[0m\n\u001b[1;32m      5\u001b[0m \u001b[0mprint\u001b[0m\u001b[0;34m(\u001b[0m\u001b[0mpath\u001b[0m\u001b[0;34m)\u001b[0m\u001b[0;34m\u001b[0m\u001b[0;34m\u001b[0m\u001b[0m\n\u001b[0;32m----> 6\u001b[0;31m \u001b[0mMerkleTree\u001b[0m\u001b[0;34m.\u001b[0m\u001b[0mauth_path\u001b[0m\u001b[0;34m(\u001b[0m\u001b[0mdata\u001b[0m\u001b[0;34m,\u001b[0m \u001b[0mInteger\u001b[0m\u001b[0;34m(\u001b[0m\u001b[0;36m0\u001b[0m\u001b[0;34m)\u001b[0m\u001b[0;34m,\u001b[0m \u001b[0mpath\u001b[0m\u001b[0;34m,\u001b[0m \u001b[0mmerkle_tree\u001b[0m\u001b[0;34m.\u001b[0m\u001b[0mroot\u001b[0m\u001b[0;34m,\u001b[0m \u001b[0mmerkle_tree\u001b[0m\u001b[0;34m.\u001b[0m\u001b[0mtree_height\u001b[0m\u001b[0;34m)\u001b[0m\u001b[0;34m\u001b[0m\u001b[0;34m\u001b[0m\u001b[0m\n\u001b[0m",
      "\u001b[0;32m<ipython-input-8-13a10cab4a32>\u001b[0m in \u001b[0;36mauth_path\u001b[0;34m(data, index, path, root, tree_height)\u001b[0m\n\u001b[1;32m     37\u001b[0m             \u001b[0mindex\u001b[0m \u001b[0;34m=\u001b[0m \u001b[0mint\u001b[0m\u001b[0;34m(\u001b[0m\u001b[0mindex\u001b[0m \u001b[0;34m/\u001b[0m \u001b[0mInteger\u001b[0m\u001b[0;34m(\u001b[0m\u001b[0;36m2\u001b[0m\u001b[0;34m)\u001b[0m\u001b[0;34m)\u001b[0m\u001b[0;34m\u001b[0m\u001b[0;34m\u001b[0m\u001b[0m\n\u001b[1;32m     38\u001b[0m \u001b[0;34m\u001b[0m\u001b[0m\n\u001b[0;32m---> 39\u001b[0;31m         \u001b[0;32massert\u001b[0m \u001b[0mcurr_hash\u001b[0m \u001b[0;34m==\u001b[0m \u001b[0mroot\u001b[0m\u001b[0;34m\u001b[0m\u001b[0;34m\u001b[0m\u001b[0m\n\u001b[0m",
      "\u001b[0;31mAssertionError\u001b[0m: "
     ]
    }
   ],
   "source": [
    "merkle_tree = MerkleTree([1,2,3,4])\n",
    "data, path = merkle_tree.get_path(0)\n",
    "MerkleTree.auth_path(data, 0, path, merkle_tree.root, merkle_tree.tree_height)"
   ]
  },
  {
   "cell_type": "code",
   "execution_count": null,
   "id": "60be9011",
   "metadata": {},
   "outputs": [],
   "source": []
  }
 ],
 "metadata": {
  "kernelspec": {
   "display_name": "SageMath 9.0",
   "language": "sage",
   "name": "sagemath"
  },
  "language_info": {
   "codemirror_mode": {
    "name": "ipython",
    "version": 3
   },
   "file_extension": ".py",
   "mimetype": "text/x-python",
   "name": "python",
   "nbconvert_exporter": "python",
   "pygments_lexer": "ipython3",
   "version": "3.8.10"
  }
 },
 "nbformat": 4,
 "nbformat_minor": 5
}
