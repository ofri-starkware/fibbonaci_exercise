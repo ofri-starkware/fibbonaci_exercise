{
 "cells": [
  {
   "cell_type": "code",
   "execution_count": 4,
   "id": "f9c6a4bd",
   "metadata": {},
   "outputs": [],
   "source": [
    "P = 3221225473\n",
    "F = GF(P)\n",
    "F_gen = F.gen()\n",
    "w = F.multiplicative_generator()\n",
    "assert F_gen == 1\n",
    "\n",
    "g = 1734477367 * F_gen\n",
    "g_order = 8192\n",
    "\n",
    "RS_factor = 8\n",
    "\n",
    "gamma = g**RS_factor\n",
    "gamma_order = sage.rings.integer.Integer(g_order / RS_factor)\n",
    "trace_size = gamma_order\n",
    "\n",
    "PR = F['x']\n",
    "\n",
    "fib_1 = F_gen\n",
    "last_fib_index = 1000\n",
    "fib_last = F_gen * 2997353887"
   ]
  },
  {
   "cell_type": "code",
   "execution_count": 7,
   "id": "a5502b9a",
   "metadata": {},
   "outputs": [],
   "source": [
    "import hashlib\n",
    "\n",
    "def enc_and_hash(data):\n",
    "    return hashlib.sha256(str(data).encode(\"utf-8\")).digest()\n",
    "\n",
    "class FiatShamir():\n",
    "    def __init__(self):\n",
    "        self.nonce = 0\n",
    "        self.last_hash = b\"\"\n",
    "    \n",
    "    def get_random_int(self, data):\n",
    "        self.last_hash = hashlib.sha256(enc_and_hash(data) + enc_and_hash(self.nonce)).digest()\n",
    "        self.nonce += 1\n",
    "        return int(self.last_hash.hex(), 16)"
   ]
  },
  {
   "cell_type": "code",
   "execution_count": null,
   "id": "9b39360b",
   "metadata": {},
   "outputs": [],
   "source": []
  }
 ],
 "metadata": {
  "kernelspec": {
   "display_name": "SageMath 9.0",
   "language": "sage",
   "name": "sagemath"
  },
  "language_info": {
   "codemirror_mode": {
    "name": "ipython",
    "version": 3
   },
   "file_extension": ".py",
   "mimetype": "text/x-python",
   "name": "python",
   "nbconvert_exporter": "python",
   "pygments_lexer": "ipython3",
   "version": "3.8.10"
  }
 },
 "nbformat": 4,
 "nbformat_minor": 5
}
