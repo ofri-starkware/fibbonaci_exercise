{
 "cells": [
  {
   "cell_type": "code",
   "execution_count": 79,
   "id": "b59f6f7d",
   "metadata": {},
   "outputs": [],
   "source": [
    "%run SharedParams.ipynb\n",
    "%run MerkleTree.ipynb\n",
    "fib_a = F_gen\n",
    "\n",
    "fiat_shamir = FiatShamir()\n",
    "proof_data = []"
   ]
  },
  {
   "cell_type": "code",
   "execution_count": 80,
   "id": "d86e234b",
   "metadata": {},
   "outputs": [],
   "source": [
    "fib_points = []\n",
    "c = F_gen\n",
    "d = F_gen\n",
    "for i in range(last_fib_index + 1):\n",
    "    fib_points.append((g**(RS_factor*i), c))\n",
    "    c, d = d, c+d\n",
    "trace_poly = PR.lagrange_polynomial(fib_points)"
   ]
  },
  {
   "cell_type": "code",
   "execution_count": 81,
   "id": "13613662",
   "metadata": {},
   "outputs": [],
   "source": [
    "coset_eval = []\n",
    "for i in range(g_order):\n",
    "    coset_eval.append(trace_poly(w * g**i))\n"
   ]
  },
  {
   "cell_type": "code",
   "execution_count": 82,
   "id": "5d3ab5cb",
   "metadata": {},
   "outputs": [],
   "source": [
    "fibonacci_constraint_trace_poly = trace_poly(PR(x)) + trace_poly(gamma * PR(x)) - trace_poly(PR(x) * gamma ** 2)\n",
    "fibonacci_constraint_missing_zeroes_poly = 1\n",
    "for i in range(last_fib_index - 1, trace_size):\n",
    "    fibonacci_constraint_missing_zeroes_poly *= (PR(x) - gamma**i)\n",
    "# For optimization - change PR(x)**trace_size to a faster implementation\n",
    "fibonacci_constraint_zeroes_poly = (PR(x)**trace_size - PR(1)) / fibonacci_constraint_missing_zeroes_poly\n",
    "ld_fibonacci_constraint_trace_poly = PR(fibonacci_constraint_trace_poly / fibonacci_constraint_zeroes_poly)"
   ]
  },
  {
   "cell_type": "code",
   "execution_count": 83,
   "id": "5a047282",
   "metadata": {},
   "outputs": [],
   "source": [
    "boundary_constraint_1 = PR((trace_poly - fib_1)/(PR(x)-1))\n",
    "boundary_constraint_last = PR((trace_poly - fib_last)/(PR(x) - gamma**last_fib_index))"
   ]
  },
  {
   "cell_type": "code",
   "execution_count": 84,
   "id": "e0a8548d",
   "metadata": {},
   "outputs": [],
   "source": [
    "eval_merkle = MerkleTree(coset_eval)\n",
    "proof_data.append(f\"eval_merkle:{eval_merkle.root}\")\n",
    "beta0, beta1, beta2, beta3, beta4, beta5 = (fiat_shamir.get_random_int(proof_data) % P for i in range(6))\n",
    "\n",
    "cp = beta0 + beta1 * (ld_fibonacci_constraint_trace_poly * PR(x) ** (1023 - ld_fibonacci_constraint_trace_poly.degree()))\n",
    "cp += beta2 + beta3 * (boundary_constraint_1 * PR(x) ** (1023 - boundary_constraint_1.degree()))\n",
    "cp += beta4 + beta5 * (boundary_constraint_last * PR(x) ** (1023 - boundary_constraint_last.degree()))\n",
    "\n"
   ]
  },
  {
   "cell_type": "code",
   "execution_count": 85,
   "id": "511a3b97",
   "metadata": {},
   "outputs": [],
   "source": [
    "cp_eval = []\n",
    "for i in range(g_order):\n",
    "    cp_eval.append(cp(w * g**i))"
   ]
  },
  {
   "cell_type": "code",
   "execution_count": null,
   "id": "f2dddc0e",
   "metadata": {},
   "outputs": [],
   "source": []
  },
  {
   "cell_type": "code",
   "execution_count": null,
   "id": "26c085ac",
   "metadata": {},
   "outputs": [],
   "source": []
  }
 ],
 "metadata": {
  "kernelspec": {
   "display_name": "SageMath 9.0",
   "language": "sage",
   "name": "sagemath"
  },
  "language_info": {
   "codemirror_mode": {
    "name": "ipython",
    "version": 3
   },
   "file_extension": ".py",
   "mimetype": "text/x-python",
   "name": "python",
   "nbconvert_exporter": "python",
   "pygments_lexer": "ipython3",
   "version": "3.8.10"
  }
 },
 "nbformat": 4,
 "nbformat_minor": 5
}
