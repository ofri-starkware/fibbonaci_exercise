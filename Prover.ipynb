{
 "cells": [
  {
   "cell_type": "code",
   "execution_count": 1,
   "id": "5a54147b",
   "metadata": {},
   "outputs": [],
   "source": [
    "#imports and global variables\n",
    "\n",
    "%run SharedParams.ipynb\n",
    "%run Fri.ipynb\n",
    "%run MerkleTree.ipynb\n",
    "fib_a = F_gen\n",
    "\n",
    "fiat_shamir = FiatShamir()\n",
    "proof_data = []\n",
    "commitments = []"
   ]
  },
  {
   "cell_type": "code",
   "execution_count": 2,
   "id": "b17c0346",
   "metadata": {},
   "outputs": [],
   "source": [
    "# generate trace polynomial (f)\n",
    "\n",
    "fib_points = []\n",
    "c = F_gen\n",
    "d = F_gen\n",
    "for i in range(last_fib_index + 1):\n",
    "    fib_points.append((g**(RS_factor*i), c))\n",
    "    c, d = d, c+d\n",
    "\n",
    "#fib_points[800] = (g**(RS_factor*800), 3) #mistaken trace for test\n",
    "trace_poly = PR.lagrange_polynomial(fib_points)"
   ]
  },
  {
   "cell_type": "code",
   "execution_count": 3,
   "id": "1ce9ccad",
   "metadata": {},
   "outputs": [],
   "source": [
    "# generate trace polynomial evauluation over g<w>\n",
    "\n",
    "coset_eval = []\n",
    "for i in range(g_order):\n",
    "    coset_eval.append(trace_poly(w * g**i))\n"
   ]
  },
  {
   "cell_type": "code",
   "execution_count": 4,
   "id": "d26d18e3",
   "metadata": {},
   "outputs": [],
   "source": [
    "# generate fibonacci constraint polynomial\n",
    "\n",
    "fibonacci_constraint_trace_poly = trace_poly(PR(x)) + trace_poly(gamma * PR(x)) - trace_poly(PR(x) * gamma ** 2)\n",
    "fibonacci_constraint_missing_zeroes_poly = 1\n",
    "for i in range(last_fib_index - 1, trace_size):\n",
    "    fibonacci_constraint_missing_zeroes_poly *= (PR(x) - gamma**i)\n",
    "# For optimization - change PR(x)**trace_size to a faster implementation\n",
    "fibonacci_constraint_zeroes_poly = (PR(x)**trace_size - PR(1)) / fibonacci_constraint_missing_zeroes_poly\n",
    "ld_fibonacci_constraint_trace_poly = fibonacci_constraint_trace_poly / fibonacci_constraint_zeroes_poly"
   ]
  },
  {
   "cell_type": "code",
   "execution_count": 5,
   "id": "0b2361a0",
   "metadata": {},
   "outputs": [],
   "source": [
    "# generate boundary constraint polynomials\n",
    "\n",
    "boundary_constraint_1 = (trace_poly - fib_1)/(PR(x)-1)\n",
    "boundary_constraint_last = (trace_poly - fib_last)/(PR(x) - gamma**last_fib_index)"
   ]
  },
  {
   "cell_type": "code",
   "execution_count": 6,
   "id": "814dd296",
   "metadata": {},
   "outputs": [],
   "source": [
    "# commit on trace polynomial evaluation\n",
    "\n",
    "eval_merkle = MerkleTree(coset_eval)\n",
    "proof_data.append(f\"eval_merkle:{eval_merkle.root.hex()}\")\n",
    "commitments.append(eval_merkle.root)"
   ]
  },
  {
   "cell_type": "code",
   "execution_count": 7,
   "id": "4f12187d",
   "metadata": {},
   "outputs": [],
   "source": [
    "# generate composition polynomial\n",
    "\n",
    "beta0, beta1, beta2, beta3, beta4, beta5 = (fiat_shamir.get_random_int(commitments) % P for i in range(6))\n",
    "\n",
    "cp = beta0 + beta1 * (ld_fibonacci_constraint_trace_poly * PR(x) ** (1023 - fib_constraint_max_deg))\n",
    "cp += beta2 + beta3 * (boundary_constraint_1 * PR(x) ** (1023 - boundary_constraint_max_deg))\n",
    "cp += beta4 + beta5 * (boundary_constraint_last * PR(x) ** (1023 - boundary_constraint_max_deg))"
   ]
  },
  {
   "cell_type": "code",
   "execution_count": 8,
   "id": "b3b6b0c7",
   "metadata": {},
   "outputs": [],
   "source": [
    "# generate cp evalutaions over w<g> coset\n",
    "cp_eval = []\n",
    "for i in range(g_order):\n",
    "    cp_eval.append(cp(w * g**i))\n",
    "\n",
    "cp_eval_merkle = MerkleTree(cp_eval)\n",
    "proof_data.append(f\"cp_eval_merkle:{cp_eval_merkle.root.hex()}\")\n",
    "commitments.append(cp_eval_merkle.root)"
   ]
  },
  {
   "cell_type": "code",
   "execution_count": 9,
   "id": "404230c9",
   "metadata": {},
   "outputs": [],
   "source": [
    "# generate OOODS parameters\n",
    "\n",
    "oods_z = F_gen * fiat_shamir.get_random_int(commitments)\n",
    "\n",
    "cp_z = cp(oods_z)\n",
    "mask_z1 = trace_poly(oods_z)\n",
    "mask_z2 = trace_poly(oods_z * gamma)\n",
    "mask_z3 = trace_poly(oods_z * gamma**2)\n",
    "\n",
    "proof_data.append(f\"cp_z:{cp_z}\")\n",
    "commitments.append(cp_z)\n",
    "proof_data.append(f\"mask_z1:{mask_z1}\")\n",
    "commitments.append(mask_z1)\n",
    "proof_data.append(f\"mask_z2:{mask_z2}\")\n",
    "commitments.append(mask_z2)\n",
    "proof_data.append(f\"mask_z3:{mask_z3}\")\n",
    "commitments.append(mask_z3)\n",
    "\n",
    "alpha1, alpha2, alpha3, alpha_cp = (fiat_shamir.get_random_int(commitments) for i in range(4))"
   ]
  },
  {
   "cell_type": "code",
   "execution_count": 10,
   "id": "0415ff37",
   "metadata": {},
   "outputs": [],
   "source": [
    "oods_poly = alpha1 * (trace_poly-mask_z1)/(PR('x')-oods_z)\n",
    "oods_poly += alpha2 * (trace_poly-mask_z2)/(PR('x')- (gamma * oods_z))\n",
    "oods_poly += alpha3 * (trace_poly-mask_z3)/(PR('x')-(gamma ** 2 * oods_z))\n",
    "oods_poly += alpha_cp * (cp-cp_z)/(PR('x')-oods_z)"
   ]
  },
  {
   "cell_type": "code",
   "execution_count": 11,
   "id": "4b00100b",
   "metadata": {},
   "outputs": [],
   "source": [
    "# generate oods_poly evalutaions over w<g> coset\n",
    "oods_poly_eval = []\n",
    "for i in range(g_order):\n",
    "    oods_poly_eval.append(oods_poly(w * g**i))"
   ]
  },
  {
   "cell_type": "code",
   "execution_count": 12,
   "id": "dcbb2773",
   "metadata": {},
   "outputs": [],
   "source": [
    "# generate fri proof and queries\n",
    "\n",
    "fri = Fri(oods_poly_eval, fiat_shamir, proof_data)\n",
    "for i in range(N_FRI_QUERIES):\n",
    "    trace_index = fiat_shamir.get_random_int(commitments) % g_order\n",
    "    \n",
    "    # commit on trace_poly eval\n",
    "    trace_data, trace_path = eval_merkle.get_path(trace_index % g_order)\n",
    "    MerkleTree.auth_path(trace_data, trace_index, trace_path, eval_merkle.root, eval_merkle.tree_height)\n",
    "    proof_data.append(f\"trace_eval:{trace_data}\")\n",
    "    proof_data.append(f\"path:{trace_path}\")\n",
    "    \n",
    "    # commit on cp eval\n",
    "    cp_data, cp_path = cp_eval_merkle.get_path(trace_index % g_order)\n",
    "    MerkleTree.auth_path(cp_data, trace_index, cp_path, cp_eval_merkle.root, cp_eval_merkle.tree_height)\n",
    "    proof_data.append(f\"cp_eval:{cp_data}\")\n",
    "    proof_data.append(f\"path:{cp_path}\")\n",
    "\n",
    "    fri.query_layers(trace_index, fiat_shamir, proof_data)"
   ]
  },
  {
   "cell_type": "code",
   "execution_count": 17,
   "id": "50169dc0",
   "metadata": {},
   "outputs": [],
   "source": [
    "print(commitments)\n",
    "print(proof_data)\n"
   ]
  },
  {
   "cell_type": "code",
   "execution_count": null,
   "id": "6b530374",
   "metadata": {},
   "outputs": [],
   "source": []
  }
 ],
 "metadata": {
  "kernelspec": {
   "display_name": "SageMath 9.0",
   "language": "sage",
   "name": "sagemath"
  },
  "language_info": {
   "codemirror_mode": {
    "name": "ipython",
    "version": 3
   },
   "file_extension": ".py",
   "mimetype": "text/x-python",
   "name": "python",
   "nbconvert_exporter": "python",
   "pygments_lexer": "ipython3",
   "version": "3.8.10"
  }
 },
 "nbformat": 4,
 "nbformat_minor": 5
}
